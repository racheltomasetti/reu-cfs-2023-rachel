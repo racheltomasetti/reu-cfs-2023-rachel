{
 "cells": [
  {
   "cell_type": "markdown",
   "id": "cc297ba2",
   "metadata": {},
   "source": [
    "## Exercises: Interval sum\n",
    "\n",
    "----\n",
    "\n",
    "Burton Rosenberg\n",
    "\n",
    "University of Miami\n",
    "\n",
    "copyright 2023 burton rosenberg all rights reserved\n",
    "\n",
    "\n",
    "----\n",
    "\n",
    "Given a list of integers, find indices i and j such that the `sum(a[i:j])` is a maximum. There can several correct answers differing on i and j. To simplify statements about the solutions, we will require that for all `i`, `a[i]!=0`. Then if there are multiple solutions, they are all disjoint as intervals. If the maxium value is positive then in these possible solutions will be separated by at least one location (else the intervals can be joined).\n",
    "\n",
    "### Slice practice\n",
    "\n",
    "For an exercise in slices, enumerate all approriate i, j pairs and track the maximum.\n",
    "\n",
    "### Dynamic programing\n",
    "\n",
    "Extra credit: Find a dynamic programming method that is O(n)."
   ]
  },
  {
   "cell_type": "code",
   "execution_count": 6,
   "id": "6a216e31",
   "metadata": {},
   "outputs": [
    {
     "name": "stdout",
     "output_type": "stream",
     "text": [
      "broken!\n",
      "broken!\n",
      "broken!\n",
      "broken!\n",
      "broken!\n",
      "broken!\n",
      "broken!\n",
      "broken!\n"
     ]
    }
   ],
   "source": [
    "# using slices\n",
    "\n",
    "\n",
    "def max_interval(a):\n",
    "    n = len(a)\n",
    "    max_v, max_i, max_j = a[0], 0, 0 \n",
    "    \n",
    "    pass\n",
    "\n",
    "    return (max_v, max_i, max_j)\n",
    "\n",
    "def test_max_interval(n):\n",
    "    test = [i+1 for i in range(n)]\n",
    "    ans = (n*(n+1)/2,0,n)\n",
    "    if ans == max_interval(test):\n",
    "        print(\"correct!\")\n",
    "    else:\n",
    "        print(\"broken!\")\n",
    "        \n",
    "    m = n//2\n",
    "    x = max_interval([i+1 for i in range(m)])\n",
    "    test[m] = -x[0]-1\n",
    "    ans = (sum([i+1 for i in range(m+1,n)]),m+1,n)\n",
    "    if ans == max_interval(test):\n",
    "        print(\"correct!\")\n",
    "    else:\n",
    "        print(\"broken!\")\n",
    "\n",
    "for n in [6,15,50,201]: test_max_interval(n)"
   ]
  },
  {
   "cell_type": "code",
   "execution_count": 5,
   "id": "dc1ac59b",
   "metadata": {},
   "outputs": [
    {
     "name": "stdout",
     "output_type": "stream",
     "text": [
      "broken!\n",
      "broken!\n",
      "broken!\n",
      "broken!\n",
      "broken!\n",
      "broken!\n",
      "broken!\n",
      "broken!\n",
      "broken!\n",
      "broken!\n",
      "broken!\n",
      "broken!\n"
     ]
    }
   ],
   "source": [
    "# using dyamic programming\n",
    "\n",
    "\n",
    "def max_interval_dyn(a):\n",
    "    \"\"\"\n",
    "    m array: m[i] is the max sum of a[j:i+1],\n",
    "    j array: the j for m[i] as above\n",
    "    n.b. j is not needed, it can be recalculated from m\n",
    "    \"\"\"\n",
    "    n = len(a)\n",
    "    m = [0]*n\n",
    "    j = [0]*n\n",
    "    m[0] = a[0]\n",
    "    # LI established - m and j correct up to including i=0\n",
    "    for i in range(1,n):\n",
    "\n",
    "        pass\n",
    "\n",
    "    v = max(m)\n",
    "    k = m.index(v)\n",
    "    return (v,j[k],k+1)\n",
    "    \n",
    "    \n",
    "def test_max_interval_dyn(n):\n",
    "    test = [i+1 for i in range(n)]\n",
    "    ans = (n*(n+1)/2,0,n)\n",
    "    if ans == max_interval_dyn(test):\n",
    "        print(\"correct!\")\n",
    "    else:\n",
    "        print(\"broken!\")\n",
    "        \n",
    "    m = n//2\n",
    "    x = max_interval([i+1 for i in range(m)])\n",
    "    test[m] = -x[0]-1\n",
    "    ans = (sum([i+1 for i in range(m+1,n)]),m+1,n)\n",
    "    if ans == max_interval_dyn(test):\n",
    "        print(\"correct!\")\n",
    "    else:\n",
    "        print(\"broken!\")\n",
    "    \n",
    "    test = [i+1 for i in range(n)]\n",
    "    test[::2] = test[n//2::]\n",
    "    for i in range(0,n,2):\n",
    "        test[i] = test[i]-n\n",
    "    ans = max_interval(test)\n",
    "    if ans == max_interval_dyn(test):\n",
    "        print(ans)\n",
    "        print(\"correct!\")\n",
    "    else:\n",
    "        print(\"broken!\")\n",
    "\n",
    "for n in [6,15,50,201]: test_max_interval_dyn(n)"
   ]
  },
  {
   "cell_type": "code",
   "execution_count": null,
   "id": "1524eaf6",
   "metadata": {},
   "outputs": [],
   "source": []
  }
 ],
 "metadata": {
  "kernelspec": {
   "display_name": "Python 3 (ipykernel)",
   "language": "python",
   "name": "python3"
  },
  "language_info": {
   "codemirror_mode": {
    "name": "ipython",
    "version": 3
   },
   "file_extension": ".py",
   "mimetype": "text/x-python",
   "name": "python",
   "nbconvert_exporter": "python",
   "pygments_lexer": "ipython3",
   "version": "3.9.7"
  }
 },
 "nbformat": 4,
 "nbformat_minor": 5
}
